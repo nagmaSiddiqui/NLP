{
 "cells": [
  {
   "cell_type": "markdown",
   "metadata": {},
   "source": [
    "sentimental analysis in python\n",
    "\n",
    "1. using VADER(Valence Aware Dictionary and sEntiment Reasoner)-bag of word approch\n"
   ]
  },
  {
   "cell_type": "code",
   "execution_count": 8,
   "metadata": {},
   "outputs": [
    {
     "name": "stderr",
     "output_type": "stream",
     "text": [
      "[nltk_data] Downloading package averaged_perceptron_tagger to\n",
      "[nltk_data]     C:\\Users\\acer\\AppData\\Roaming\\nltk_data...\n",
      "[nltk_data]   Package averaged_perceptron_tagger is already up-to-\n",
      "[nltk_data]       date!\n",
      "[nltk_data] Downloading package maxent_ne_chunker to\n",
      "[nltk_data]     C:\\Users\\acer\\AppData\\Roaming\\nltk_data...\n",
      "[nltk_data]   Package maxent_ne_chunker is already up-to-date!\n",
      "[nltk_data] Downloading package words to\n",
      "[nltk_data]     C:\\Users\\acer\\AppData\\Roaming\\nltk_data...\n",
      "[nltk_data]   Package words is already up-to-date!\n",
      "[nltk_data] Downloading package vader_lexicon to\n",
      "[nltk_data]     C:\\Users\\acer\\AppData\\Roaming\\nltk_data...\n",
      "[nltk_data]   Package vader_lexicon is already up-to-date!\n"
     ]
    },
    {
     "data": {
      "text/plain": [
       "True"
      ]
     },
     "execution_count": 8,
     "metadata": {},
     "output_type": "execute_result"
    }
   ],
   "source": [
    "# step 0.Read in data and NLTK basics\n",
    "import pandas as pd\n",
    "import numpy as np\n",
    "import matplotlib.pyplot as plt\n",
    "import seaborn as sns\n",
    "\n",
    "plt.style.use('ggplot')\n",
    "\n",
    "import nltk\n",
    "\n",
    "nltk.download('averaged_perceptron_tagger')\n",
    "nltk.download('maxent_ne_chunker')\n",
    "nltk.download('words')\n",
    "nltk.download('vader_lexicon')"
   ]
  },
  {
   "cell_type": "code",
   "execution_count": 11,
   "metadata": {},
   "outputs": [
    {
     "name": "stdout",
     "output_type": "stream",
     "text": [
      "                                                   text  label\n",
      "0     I always wrote this series off as being a comp...      0\n",
      "1     1st watched 12/7/2002 - 3 out of 10(Dir-Steve ...      0\n",
      "2     This movie was so poorly written and directed ...      0\n",
      "3     The most interesting thing about Miryang (Secr...      1\n",
      "4     when i first read about \"berlin am meer\" i did...      0\n",
      "...                                                 ...    ...\n",
      "4995  This is the kind of picture John Lassiter woul...      1\n",
      "4996  A MUST SEE! I saw WHIPPED at a press screening...      1\n",
      "4997  NBC should be ashamed. I wouldn't allow my chi...      0\n",
      "4998  This movie is a clumsy mishmash of various gho...      0\n",
      "4999  Formula movie about the illegitimate son of a ...      0\n",
      "\n",
      "[5000 rows x 2 columns]\n"
     ]
    }
   ],
   "source": [
    "#read in data\n",
    "data=pd.read_csv(r\"C:\\Users\\acer\\Downloads\\Tweet.csv\")\n",
    "print(data)\n",
    "\n"
   ]
  },
  {
   "cell_type": "code",
   "execution_count": 10,
   "metadata": {},
   "outputs": [
    {
     "name": "stdout",
     "output_type": "stream",
     "text": [
      "(5000, 2)\n"
     ]
    }
   ],
   "source": [
    "\n",
    "\n",
    "print(data.shape)"
   ]
  },
  {
   "cell_type": "code",
   "execution_count": 31,
   "metadata": {},
   "outputs": [
    {
     "data": {
      "text/html": [
       "<div>\n",
       "<style scoped>\n",
       "    .dataframe tbody tr th:only-of-type {\n",
       "        vertical-align: middle;\n",
       "    }\n",
       "\n",
       "    .dataframe tbody tr th {\n",
       "        vertical-align: top;\n",
       "    }\n",
       "\n",
       "    .dataframe thead th {\n",
       "        text-align: right;\n",
       "    }\n",
       "</style>\n",
       "<table border=\"1\" class=\"dataframe\">\n",
       "  <thead>\n",
       "    <tr style=\"text-align: right;\">\n",
       "      <th></th>\n",
       "      <th>Id</th>\n",
       "      <th>ProductId</th>\n",
       "      <th>UserId</th>\n",
       "      <th>ProfileName</th>\n",
       "      <th>HelpfulnessNumerator</th>\n",
       "      <th>HelpfulnessDenominator</th>\n",
       "      <th>Score</th>\n",
       "      <th>Time</th>\n",
       "      <th>Summary</th>\n",
       "      <th>Text</th>\n",
       "    </tr>\n",
       "  </thead>\n",
       "  <tbody>\n",
       "    <tr>\n",
       "      <th>0</th>\n",
       "      <td>1</td>\n",
       "      <td>B000G6MBX2</td>\n",
       "      <td>A228P3VH7SFBHG</td>\n",
       "      <td>J</td>\n",
       "      <td>1</td>\n",
       "      <td>2</td>\n",
       "      <td>2</td>\n",
       "      <td>1219449600</td>\n",
       "      <td>Meh</td>\n",
       "      <td>I guess there's no telling what will tickle th...</td>\n",
       "    </tr>\n",
       "    <tr>\n",
       "      <th>1</th>\n",
       "      <td>2</td>\n",
       "      <td>B000G6MBX2</td>\n",
       "      <td>A1AQ2W2R4SOVGN</td>\n",
       "      <td>De Profundis</td>\n",
       "      <td>6</td>\n",
       "      <td>10</td>\n",
       "      <td>1</td>\n",
       "      <td>1195084800</td>\n",
       "      <td>The \"Organic\" Label is Misleading</td>\n",
       "      <td>\"Yeast Extract\" is listed as an ingredient. So...</td>\n",
       "    </tr>\n",
       "    <tr>\n",
       "      <th>2</th>\n",
       "      <td>3</td>\n",
       "      <td>B000G6MBX2</td>\n",
       "      <td>A3NCTCNAUYCH6H</td>\n",
       "      <td>jesse girl</td>\n",
       "      <td>0</td>\n",
       "      <td>1</td>\n",
       "      <td>3</td>\n",
       "      <td>1278374400</td>\n",
       "      <td>Kind of Bland</td>\n",
       "      <td>These were not flavorful enough for my taste. ...</td>\n",
       "    </tr>\n",
       "    <tr>\n",
       "      <th>3</th>\n",
       "      <td>4</td>\n",
       "      <td>B000G6MBX2</td>\n",
       "      <td>ADD87VB66Y0DQ</td>\n",
       "      <td>L. Pray \"bargainqueen\"</td>\n",
       "      <td>0</td>\n",
       "      <td>1</td>\n",
       "      <td>5</td>\n",
       "      <td>1277337600</td>\n",
       "      <td>Delicious chips</td>\n",
       "      <td>Plocky's chips are made of several whole grain...</td>\n",
       "    </tr>\n",
       "    <tr>\n",
       "      <th>4</th>\n",
       "      <td>5</td>\n",
       "      <td>B000G6MBX2</td>\n",
       "      <td>A2GS0QUCV2KVMP</td>\n",
       "      <td>Stephanie J. Myers</td>\n",
       "      <td>0</td>\n",
       "      <td>1</td>\n",
       "      <td>4</td>\n",
       "      <td>1209686400</td>\n",
       "      <td>Broken chips but tasty</td>\n",
       "      <td>I love these chips and ordered them after I ha...</td>\n",
       "    </tr>\n",
       "  </tbody>\n",
       "</table>\n",
       "</div>"
      ],
      "text/plain": [
       "   Id   ProductId          UserId             ProfileName  \\\n",
       "0   1  B000G6MBX2  A228P3VH7SFBHG                       J   \n",
       "1   2  B000G6MBX2  A1AQ2W2R4SOVGN            De Profundis   \n",
       "2   3  B000G6MBX2  A3NCTCNAUYCH6H              jesse girl   \n",
       "3   4  B000G6MBX2   ADD87VB66Y0DQ  L. Pray \"bargainqueen\"   \n",
       "4   5  B000G6MBX2  A2GS0QUCV2KVMP      Stephanie J. Myers   \n",
       "\n",
       "   HelpfulnessNumerator  HelpfulnessDenominator  Score        Time  \\\n",
       "0                     1                       2      2  1219449600   \n",
       "1                     6                      10      1  1195084800   \n",
       "2                     0                       1      3  1278374400   \n",
       "3                     0                       1      5  1277337600   \n",
       "4                     0                       1      4  1209686400   \n",
       "\n",
       "                             Summary  \\\n",
       "0                                Meh   \n",
       "1  The \"Organic\" Label is Misleading   \n",
       "2                      Kind of Bland   \n",
       "3                    Delicious chips   \n",
       "4             Broken chips but tasty   \n",
       "\n",
       "                                                Text  \n",
       "0  I guess there's no telling what will tickle th...  \n",
       "1  \"Yeast Extract\" is listed as an ingredient. So...  \n",
       "2  These were not flavorful enough for my taste. ...  \n",
       "3  Plocky's chips are made of several whole grain...  \n",
       "4  I love these chips and ordered them after I ha...  "
      ]
     },
     "execution_count": 31,
     "metadata": {},
     "output_type": "execute_result"
    }
   ],
   "source": [
    "data.head()\n"
   ]
  },
  {
   "cell_type": "code",
   "execution_count": 32,
   "metadata": {},
   "outputs": [
    {
     "data": {
      "image/png": "[encoded data removed]",
      "text/plain": [
       "<Figure size 1000x500 with 1 Axes>"
      ]
     },
     "metadata": {},
     "output_type": "display_data"
    }
   ],
   "source": [
    "ax = data['Score'].value_counts().sort_index() \\\n",
    "    .plot(kind='bar',\n",
    "          title='Count of Reviews by Stars',\n",
    "          figsize=(10, 5))\n",
    "ax.set_xlabel('Review Stars')\n",
    "plt.show()"
   ]
  },
  {
   "cell_type": "code",
   "execution_count": 33,
   "metadata": {},
   "outputs": [
    {
     "name": "stdout",
     "output_type": "stream",
     "text": [
      "Twizzlers, Strawberry my childhood favorite candy, made in Lancaster Pennsylvania by Y & S Candies, Inc. one of the oldest confectionery Firms in the United States, now a Subsidiary of the Hershey Company, the Company was established in 1845 as Young and Smylie, they also make Apple Licorice Twists, Green Color and Blue Raspberry Licorice Twists, I like them all<br /><br />I keep it in a dry cool place because is not recommended it to put it in the fridge. According to the Guinness Book of Records, the longest Licorice Twist ever made measured 1.200 Feet (370 M) and weighted 100 Pounds (45 Kg) and was made by Y & S Candies, Inc. This Record-Breaking Twist became a Guinness World Record on July 19, 1998. This Product is Kosher! Thank You\n"
     ]
    }
   ],
   "source": [
    "example = data['Text'][50]\n",
    "print(example)"
   ]
  },
  {
   "cell_type": "code",
   "execution_count": 14,
   "metadata": {},
   "outputs": [
    {
     "data": {
      "text/plain": [
       "['Twizzlers',\n",
       " ',',\n",
       " 'Strawberry',\n",
       " 'my',\n",
       " 'childhood',\n",
       " 'favorite',\n",
       " 'candy',\n",
       " ',',\n",
       " 'made',\n",
       " 'in',\n",
       " 'Lancaster',\n",
       " 'Pennsylvania',\n",
       " 'by',\n",
       " 'Y',\n",
       " '&',\n",
       " 'S',\n",
       " 'Candies',\n",
       " ',',\n",
       " 'Inc.',\n",
       " 'one',\n",
       " 'of',\n",
       " 'the',\n",
       " 'oldest',\n",
       " 'confectionery',\n",
       " 'Firms',\n",
       " 'in',\n",
       " 'the',\n",
       " 'United',\n",
       " 'States',\n",
       " ',',\n",
       " 'now',\n",
       " 'a',\n",
       " 'Subsidiary',\n",
       " 'of',\n",
       " 'the',\n",
       " 'Hershey',\n",
       " 'Company',\n",
       " ',',\n",
       " 'the',\n",
       " 'Company',\n",
       " 'was',\n",
       " 'established',\n",
       " 'in',\n",
       " '1845',\n",
       " 'as',\n",
       " 'Young',\n",
       " 'and',\n",
       " 'Smylie',\n",
       " ',',\n",
       " 'they',\n",
       " 'also',\n",
       " 'make',\n",
       " 'Apple',\n",
       " 'Licorice',\n",
       " 'Twists',\n",
       " ',',\n",
       " 'Green',\n",
       " 'Color',\n",
       " 'and',\n",
       " 'Blue']"
      ]
     },
     "execution_count": 14,
     "metadata": {},
     "output_type": "execute_result"
    }
   ],
   "source": [
    "tokens = nltk.word_tokenize(example)\n",
    "tokens[:60]"
   ]
  },
  {
   "cell_type": "code",
   "execution_count": 34,
   "metadata": {},
   "outputs": [
    {
     "data": {
      "text/plain": [
       "[('Twizzlers', 'NNS'),\n",
       " (',', ','),\n",
       " ('Strawberry', 'NNP'),\n",
       " ('my', 'PRP$'),\n",
       " ('childhood', 'NN'),\n",
       " ('favorite', 'JJ'),\n",
       " ('candy', 'NN'),\n",
       " (',', ','),\n",
       " ('made', 'VBN'),\n",
       " ('in', 'IN'),\n",
       " ('Lancaster', 'NNP'),\n",
       " ('Pennsylvania', 'NNP'),\n",
       " ('by', 'IN'),\n",
       " ('Y', 'NNP'),\n",
       " ('&', 'CC'),\n",
       " ('S', 'NNP'),\n",
       " ('Candies', 'NNP'),\n",
       " (',', ','),\n",
       " ('Inc.', 'NNP'),\n",
       " ('one', 'CD'),\n",
       " ('of', 'IN'),\n",
       " ('the', 'DT'),\n",
       " ('oldest', 'JJS'),\n",
       " ('confectionery', 'NN'),\n",
       " ('Firms', 'NNS'),\n",
       " ('in', 'IN'),\n",
       " ('the', 'DT'),\n",
       " ('United', 'NNP'),\n",
       " ('States', 'NNPS'),\n",
       " (',', ','),\n",
       " ('now', 'RB'),\n",
       " ('a', 'DT'),\n",
       " ('Subsidiary', 'NNP'),\n",
       " ('of', 'IN'),\n",
       " ('the', 'DT'),\n",
       " ('Hershey', 'NNP'),\n",
       " ('Company', 'NNP'),\n",
       " (',', ','),\n",
       " ('the', 'DT'),\n",
       " ('Company', 'NN'),\n",
       " ('was', 'VBD'),\n",
       " ('established', 'VBN'),\n",
       " ('in', 'IN'),\n",
       " ('1845', 'CD'),\n",
       " ('as', 'IN'),\n",
       " ('Young', 'NNP'),\n",
       " ('and', 'CC'),\n",
       " ('Smylie', 'NNP'),\n",
       " (',', ','),\n",
       " ('they', 'PRP'),\n",
       " ('also', 'RB'),\n",
       " ('make', 'VBP'),\n",
       " ('Apple', 'NNP'),\n",
       " ('Licorice', 'NNP'),\n",
       " ('Twists', 'NNP'),\n",
       " (',', ','),\n",
       " ('Green', 'NNP'),\n",
       " ('Color', 'NNP'),\n",
       " ('and', 'CC'),\n",
       " ('Blue', 'NNP')]"
      ]
     },
     "execution_count": 34,
     "metadata": {},
     "output_type": "execute_result"
    }
   ],
   "source": [
    "tagged = nltk.pos_tag(tokens)\n",
    "tagged[:60]"
   ]
  },
  {
   "cell_type": "code",
   "execution_count": 35,
   "metadata": {},
   "outputs": [
    {
     "name": "stdout",
     "output_type": "stream",
     "text": [
      "(S\n",
      "  Twizzlers/NNS\n",
      "  ,/,\n",
      "  (PERSON Strawberry/NNP)\n",
      "  my/PRP$\n",
      "  childhood/NN\n",
      "  favorite/JJ\n",
      "  candy/NN\n",
      "  ,/,\n",
      "  made/VBN\n",
      "  in/IN\n",
      "  Lancaster/NNP\n",
      "  Pennsylvania/NNP\n",
      "  by/IN\n",
      "  Y/NNP\n",
      "  &/CC\n",
      "  S/NNP\n",
      "  Candies/NNP\n",
      "  ,/,\n",
      "  Inc./NNP\n",
      "  one/CD\n",
      "  of/IN\n",
      "  the/DT\n",
      "  oldest/JJS\n",
      "  confectionery/NN\n",
      "  Firms/NNS\n",
      "  in/IN\n",
      "  the/DT\n",
      "  (GPE United/NNP States/NNPS)\n",
      "  ,/,\n",
      "  now/RB\n",
      "  a/DT\n",
      "  Subsidiary/NNP\n",
      "  of/IN\n",
      "  the/DT\n",
      "  (ORGANIZATION Hershey/NNP Company/NNP)\n",
      "  ,/,\n",
      "  the/DT\n",
      "  (ORGANIZATION Company/NN)\n",
      "  was/VBD\n",
      "  established/VBN\n",
      "  in/IN\n",
      "  1845/CD\n",
      "  as/IN\n",
      "  (PERSON Young/NNP)\n",
      "  and/CC\n",
      "  (GPE Smylie/NNP)\n",
      "  ,/,\n",
      "  they/PRP\n",
      "  also/RB\n",
      "  make/VBP\n",
      "  (PERSON Apple/NNP Licorice/NNP Twists/NNP)\n",
      "  ,/,\n",
      "  (PERSON Green/NNP Color/NNP)\n",
      "  and/CC\n",
      "  (PERSON Blue/NNP Raspberry/NNP Licorice/NNP Twists/NNP)\n",
      "  ,/,\n",
      "  I/PRP\n",
      "  like/VBP\n",
      "  them/PRP\n",
      "  all/DT\n",
      "  </VBP\n",
      "  br/JJ\n",
      "  //NNP\n",
      "  >/NNP\n",
      "  </NNP\n",
      "  br/NN\n",
      "  //NNP\n",
      "  >/NNP\n",
      "  I/PRP\n",
      "  keep/VBP\n",
      "  it/PRP\n",
      "  in/IN\n",
      "  a/DT\n",
      "  dry/JJ\n",
      "  cool/NN\n",
      "  place/NN\n",
      "  because/IN\n",
      "  is/VBZ\n",
      "  not/RB\n",
      "  recommended/VBN\n",
      "  it/PRP\n",
      "  to/TO\n",
      "  put/VB\n",
      "  it/PRP\n",
      "  in/IN\n",
      "  the/DT\n",
      "  fridge/NN\n",
      "  ./.\n",
      "  According/VBG\n",
      "  to/TO\n",
      "  the/DT\n",
      "  (ORGANIZATION Guinness/NNP Book/NNP)\n",
      "  of/IN\n",
      "  (GPE Records/NNP)\n",
      "  ,/,\n",
      "  the/DT\n",
      "  longest/JJS\n",
      "  Licorice/NNP\n",
      "  Twist/NNP\n",
      "  ever/RB\n",
      "  made/VBD\n",
      "  measured/VBN\n",
      "  1.200/CD\n",
      "  Feet/NNP\n",
      "  (/(\n",
      "  370/CD\n",
      "  M/NNP\n",
      "  )/)\n",
      "  and/CC\n",
      "  weighted/VBD\n",
      "  100/CD\n",
      "  Pounds/NNS\n",
      "  (/(\n",
      "  45/CD\n",
      "  Kg/NNP\n",
      "  )/)\n",
      "  and/CC\n",
      "  was/VBD\n",
      "  made/VBN\n",
      "  by/IN\n",
      "  Y/NNP\n",
      "  &/CC\n",
      "  S/NNP\n",
      "  Candies/NNP\n",
      "  ,/,\n",
      "  (PERSON Inc/NNP)\n",
      "  ./.\n",
      "  This/DT\n",
      "  Record-Breaking/JJ\n",
      "  (PERSON Twist/NN)\n",
      "  became/VBD\n",
      "  a/DT\n",
      "  (ORGANIZATION Guinness/NNP)\n",
      "  World/NNP\n",
      "  Record/NNP\n",
      "  on/IN\n",
      "  July/NNP\n",
      "  19/CD\n",
      "  ,/,\n",
      "  1998/CD\n",
      "  ./.\n",
      "  This/DT\n",
      "  Product/NN\n",
      "  is/VBZ\n",
      "  (PERSON Kosher/NNP)\n",
      "  !/.\n",
      "  Thank/NNP\n",
      "  You/PRP)\n"
     ]
    }
   ],
   "source": [
    "entities = nltk.chunk.ne_chunk(tagged)\n",
    "entities.pprint()"
   ]
  },
  {
   "cell_type": "markdown",
   "metadata": {},
   "source": [
    "step1. VADER sentiment scoring\n",
    "We will use NLTK's SentimentIntensityAnalyzer to get the neg/neu/pos scores of the text.\n",
    "\n",
    "This uses a \"bag of words\" approach:\n",
    "Stop words are removed\n",
    "each word is scored and combined to a total score."
   ]
  },
  {
   "cell_type": "code",
   "execution_count": 36,
   "metadata": {},
   "outputs": [],
   "source": [
    "from nltk.sentiment import SentimentIntensityAnalyzer\n",
    "from tqdm.notebook import tqdm\n",
    "\n",
    "sia = SentimentIntensityAnalyzer()"
   ]
  },
  {
   "cell_type": "code",
   "execution_count": 37,
   "metadata": {},
   "outputs": [
    {
     "data": {
      "text/plain": [
       "{'neg': 0.0, 'neu': 0.318, 'pos': 0.682, 'compound': 0.6468}"
      ]
     },
     "execution_count": 37,
     "metadata": {},
     "output_type": "execute_result"
    }
   ],
   "source": [
    "sia.polarity_scores('I am so happy!')"
   ]
  },
  {
   "cell_type": "code",
   "execution_count": 38,
   "metadata": {},
   "outputs": [
    {
     "data": {
      "text/plain": [
       "{'neg': 0.451, 'neu': 0.549, 'pos': 0.0, 'compound': -0.6249}"
      ]
     },
     "execution_count": 38,
     "metadata": {},
     "output_type": "execute_result"
    }
   ],
   "source": [
    "sia.polarity_scores('This is the worst thing ever.')"
   ]
  },
  {
   "cell_type": "code",
   "execution_count": 39,
   "metadata": {},
   "outputs": [
    {
     "data": {
      "text/plain": [
       "{'neg': 0.012, 'neu': 0.885, 'pos': 0.103, 'compound': 0.8957}"
      ]
     },
     "execution_count": 39,
     "metadata": {},
     "output_type": "execute_result"
    }
   ],
   "source": [
    "sia.polarity_scores(example)"
   ]
  },
  {
   "cell_type": "code",
   "execution_count": 41,
   "metadata": {},
   "outputs": [
    {
     "data": {
      "application/vnd.jupyter.widget-view+json": {
       "model_id": "3f5ef0a1c28046e795fe250938115542",
       "version_major": 2,
       "version_minor": 0
      },
      "text/plain": [
       "HBox(children=(HTML(value=''), FloatProgress(value=0.0, max=54.0), HTML(value='')))"
      ]
     },
     "metadata": {},
     "output_type": "display_data"
    },
    {
     "name": "stdout",
     "output_type": "stream",
     "text": [
      "\n"
     ]
    }
   ],
   "source": [
    "# Run the polarity score on the entire dataset\n",
    "res = {}\n",
    "for i, row in tqdm(data.iterrows(), total=len(data)):\n",
    "    text = row['Text']\n",
    "    myid = row['Id']\n",
    "    res[myid] = sia.polarity_scores(text)"
   ]
  },
  {
   "cell_type": "code",
   "execution_count": 44,
   "metadata": {},
   "outputs": [],
   "source": [
    "vaders = pd.DataFrame(res).T\n",
    "vaders = vaders.reset_index().rename(columns={'index': 'Id'})\n",
    "vaders = vaders.merge(data, how='left')"
   ]
  },
  {
   "cell_type": "code",
   "execution_count": 45,
   "metadata": {},
   "outputs": [
    {
     "data": {
      "text/html": [
       "<div>\n",
       "<style scoped>\n",
       "    .dataframe tbody tr th:only-of-type {\n",
       "        vertical-align: middle;\n",
       "    }\n",
       "\n",
       "    .dataframe tbody tr th {\n",
       "        vertical-align: top;\n",
       "    }\n",
       "\n",
       "    .dataframe thead th {\n",
       "        text-align: right;\n",
       "    }\n",
       "</style>\n",
       "<table border=\"1\" class=\"dataframe\">\n",
       "  <thead>\n",
       "    <tr style=\"text-align: right;\">\n",
       "      <th></th>\n",
       "      <th>Id</th>\n",
       "      <th>neg</th>\n",
       "      <th>neu</th>\n",
       "      <th>pos</th>\n",
       "      <th>compound</th>\n",
       "      <th>ProductId</th>\n",
       "      <th>UserId</th>\n",
       "      <th>ProfileName</th>\n",
       "      <th>HelpfulnessNumerator</th>\n",
       "      <th>HelpfulnessDenominator</th>\n",
       "      <th>Score</th>\n",
       "      <th>Time</th>\n",
       "      <th>Summary</th>\n",
       "      <th>Text</th>\n",
       "    </tr>\n",
       "  </thead>\n",
       "  <tbody>\n",
       "    <tr>\n",
       "      <th>0</th>\n",
       "      <td>1</td>\n",
       "      <td>0.088</td>\n",
       "      <td>0.669</td>\n",
       "      <td>0.243</td>\n",
       "      <td>0.9403</td>\n",
       "      <td>B000G6MBX2</td>\n",
       "      <td>A228P3VH7SFBHG</td>\n",
       "      <td>J</td>\n",
       "      <td>1</td>\n",
       "      <td>2</td>\n",
       "      <td>2</td>\n",
       "      <td>1219449600</td>\n",
       "      <td>Meh</td>\n",
       "      <td>I guess there's no telling what will tickle th...</td>\n",
       "    </tr>\n",
       "    <tr>\n",
       "      <th>1</th>\n",
       "      <td>2</td>\n",
       "      <td>0.090</td>\n",
       "      <td>0.887</td>\n",
       "      <td>0.023</td>\n",
       "      <td>-0.6607</td>\n",
       "      <td>B000G6MBX2</td>\n",
       "      <td>A1AQ2W2R4SOVGN</td>\n",
       "      <td>De Profundis</td>\n",
       "      <td>6</td>\n",
       "      <td>10</td>\n",
       "      <td>1</td>\n",
       "      <td>1195084800</td>\n",
       "      <td>The \"Organic\" Label is Misleading</td>\n",
       "      <td>\"Yeast Extract\" is listed as an ingredient. So...</td>\n",
       "    </tr>\n",
       "    <tr>\n",
       "      <th>2</th>\n",
       "      <td>3</td>\n",
       "      <td>0.075</td>\n",
       "      <td>0.858</td>\n",
       "      <td>0.066</td>\n",
       "      <td>-0.1045</td>\n",
       "      <td>B000G6MBX2</td>\n",
       "      <td>A3NCTCNAUYCH6H</td>\n",
       "      <td>jesse girl</td>\n",
       "      <td>0</td>\n",
       "      <td>1</td>\n",
       "      <td>3</td>\n",
       "      <td>1278374400</td>\n",
       "      <td>Kind of Bland</td>\n",
       "      <td>These were not flavorful enough for my taste. ...</td>\n",
       "    </tr>\n",
       "    <tr>\n",
       "      <th>3</th>\n",
       "      <td>4</td>\n",
       "      <td>0.087</td>\n",
       "      <td>0.774</td>\n",
       "      <td>0.139</td>\n",
       "      <td>0.6675</td>\n",
       "      <td>B000G6MBX2</td>\n",
       "      <td>ADD87VB66Y0DQ</td>\n",
       "      <td>L. Pray \"bargainqueen\"</td>\n",
       "      <td>0</td>\n",
       "      <td>1</td>\n",
       "      <td>5</td>\n",
       "      <td>1277337600</td>\n",
       "      <td>Delicious chips</td>\n",
       "      <td>Plocky's chips are made of several whole grain...</td>\n",
       "    </tr>\n",
       "    <tr>\n",
       "      <th>4</th>\n",
       "      <td>5</td>\n",
       "      <td>0.102</td>\n",
       "      <td>0.824</td>\n",
       "      <td>0.073</td>\n",
       "      <td>-0.2617</td>\n",
       "      <td>B000G6MBX2</td>\n",
       "      <td>A2GS0QUCV2KVMP</td>\n",
       "      <td>Stephanie J. Myers</td>\n",
       "      <td>0</td>\n",
       "      <td>1</td>\n",
       "      <td>4</td>\n",
       "      <td>1209686400</td>\n",
       "      <td>Broken chips but tasty</td>\n",
       "      <td>I love these chips and ordered them after I ha...</td>\n",
       "    </tr>\n",
       "  </tbody>\n",
       "</table>\n",
       "</div>"
      ],
      "text/plain": [
       "   Id    neg    neu    pos  compound   ProductId          UserId  \\\n",
       "0   1  0.088  0.669  0.243    0.9403  B000G6MBX2  A228P3VH7SFBHG   \n",
       "1   2  0.090  0.887  0.023   -0.6607  B000G6MBX2  A1AQ2W2R4SOVGN   \n",
       "2   3  0.075  0.858  0.066   -0.1045  B000G6MBX2  A3NCTCNAUYCH6H   \n",
       "3   4  0.087  0.774  0.139    0.6675  B000G6MBX2   ADD87VB66Y0DQ   \n",
       "4   5  0.102  0.824  0.073   -0.2617  B000G6MBX2  A2GS0QUCV2KVMP   \n",
       "\n",
       "              ProfileName  HelpfulnessNumerator  HelpfulnessDenominator  \\\n",
       "0                       J                     1                       2   \n",
       "1            De Profundis                     6                      10   \n",
       "2              jesse girl                     0                       1   \n",
       "3  L. Pray \"bargainqueen\"                     0                       1   \n",
       "4      Stephanie J. Myers                     0                       1   \n",
       "\n",
       "   Score        Time                            Summary  \\\n",
       "0      2  1219449600                                Meh   \n",
       "1      1  1195084800  The \"Organic\" Label is Misleading   \n",
       "2      3  1278374400                      Kind of Bland   \n",
       "3      5  1277337600                    Delicious chips   \n",
       "4      4  1209686400             Broken chips but tasty   \n",
       "\n",
       "                                                Text  \n",
       "0  I guess there's no telling what will tickle th...  \n",
       "1  \"Yeast Extract\" is listed as an ingredient. So...  \n",
       "2  These were not flavorful enough for my taste. ...  \n",
       "3  Plocky's chips are made of several whole grain...  \n",
       "4  I love these chips and ordered them after I ha...  "
      ]
     },
     "execution_count": 45,
     "metadata": {},
     "output_type": "execute_result"
    }
   ],
   "source": [
    "# Now we have sentiment score and metadata\n",
    "vaders.head()"
   ]
  },
  {
   "cell_type": "code",
   "execution_count": 46,
   "metadata": {},
   "outputs": [
    {
     "data": {
      "image/png": "[encoded data removed]",
      "text/plain": [
       "<Figure size 640x480 with 1 Axes>"
      ]
     },
     "metadata": {},
     "output_type": "display_data"
    }
   ],
   "source": [
    "#Plot VADER results\n",
    "ax = sns.barplot(data=vaders, x='Score', y='compound')\n",
    "ax.set_title('Compund Score by Amazon Star Review')\n",
    "plt.show()"
   ]
  },
  {
   "cell_type": "code",
   "execution_count": null,
   "metadata": {},
   "outputs": [],
   "source": []
  }
 ],
 "metadata": {
  "kernelspec": {
   "display_name": "Python 3 (ipykernel)",
   "language": "python",
   "name": "python3"
  },
  "language_info": {
   "codemirror_mode": {
    "name": "ipython",
    "version": 3
   },
   "file_extension": ".py",
   "mimetype": "text/x-python",
   "name": "python",
   "nbconvert_exporter": "python",
   "pygments_lexer": "ipython3",
   "version": "3.8.5"
  }
 },
 "nbformat": 4,
 "nbformat_minor": 4
}
